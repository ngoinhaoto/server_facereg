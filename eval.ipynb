{
 "cells": [
  {
   "cell_type": "code",
   "execution_count": 2,
   "id": "86b3a3f2",
   "metadata": {},
   "outputs": [],
   "source": [
    "import os \n",
    "import time \n",
    "import numpy as np \n",
    "import pandas as pd \n",
    "import matplotlib.pyplot as plt \n",
    "import seaborn as sns \n",
    "from PIL import Image \n",
    "import cv2\n",
    "import warnings \n",
    "warnings.filterwarnings('ignore')\n",
    "\n"
   ]
  },
  {
   "cell_type": "code",
   "execution_count": 3,
   "id": "282f44ca",
   "metadata": {},
   "outputs": [
    {
     "name": "stdout",
     "output_type": "stream",
     "text": [
      "PyTorch version: <module 'torch.version' from '/Users/ritherthemuncher/Desktop/server_facereg/facereg_env/lib/python3.11/site-packages/torch/version.py'>\n",
      "CUDA available: False\n"
     ]
    }
   ],
   "source": [
    "try: \n",
    "    import torch \n",
    "    print(f\"PyTorch version: {torch.version}\") \n",
    "    print(f\"CUDA available: {torch.cuda.is_available()}\") \n",
    "    if torch.cuda.is_available(): \n",
    "        print(f\"CUDA version: {torch.version.cuda}\") \n",
    "        print(f\"GPU: {torch.cuda.get_device_name(0)}\") \n",
    "except ImportError: \n",
    "    print(\"PyTorch not installed, GPU acceleration might not be available\")\n",
    "\n"
   ]
  },
  {
   "cell_type": "code",
   "execution_count": 4,
   "id": "a49429b5",
   "metadata": {},
   "outputs": [
    {
     "name": "stdout",
     "output_type": "stream",
     "text": [
      "Created directory: sample_faces\n",
      "Please add test images to this directory before running the tests\n"
     ]
    }
   ],
   "source": [
    "SAMPLE_DIR = \"sample_faces\" \n",
    "if not os.path.exists(SAMPLE_DIR): \n",
    "    os.makedirs(SAMPLE_DIR)\n",
    "    print(f\"Created directory: {SAMPLE_DIR}\")\n",
    "    print(\"Please add test images to this directory before running the tests\") \n",
    "else: \n",
    "    img_count = len([f for f in os.listdir(SAMPLE_DIR) if f.lower().endswith(('.png', '.jpg', '.jpeg'))]) \n",
    "    print(f\"Found {img_count} images in {SAMPLE_DIR}\")\n",
    "\n"
   ]
  },
  {
   "cell_type": "code",
   "execution_count": null,
   "id": "d3b4326a",
   "metadata": {},
   "outputs": [],
   "source": []
  }
 ],
 "metadata": {
  "kernelspec": {
   "display_name": "facereg_env",
   "language": "python",
   "name": "python3"
  },
  "language_info": {
   "codemirror_mode": {
    "name": "ipython",
    "version": 3
   },
   "file_extension": ".py",
   "mimetype": "text/x-python",
   "name": "python",
   "nbconvert_exporter": "python",
   "pygments_lexer": "ipython3",
   "version": "3.11.5"
  }
 },
 "nbformat": 4,
 "nbformat_minor": 5
}
